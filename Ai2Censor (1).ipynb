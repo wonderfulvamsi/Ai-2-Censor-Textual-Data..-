{
 "cells": [
  {
   "cell_type": "code",
   "execution_count": 15,
   "metadata": {},
   "outputs": [],
   "source": [
    "import sklearn\n",
    "from sklearn import preprocessing\n",
    "#import nltk\n",
    "#from nltk import stopwords\n",
    "import numpy as np\n",
    "from sklearn import tree\n",
    "import re"
   ]
  },
  {
   "cell_type": "code",
   "execution_count": 16,
   "metadata": {},
   "outputs": [],
   "source": [
    "Labelz=preprocessing.LabelEncoder()"
   ]
  },
  {
   "cell_type": "code",
   "execution_count": 17,
   "metadata": {},
   "outputs": [
    {
     "data": {
      "text/plain": [
       "array([ 1,  2,  3,  4,  5,  6,  7,  8,  9, 10, 11, 12, 13, 14, 15, 16, 17,\n",
       "       18, 19, 20, 21, 22, 23, 24, 25, 26,  0], dtype=int32)"
      ]
     },
     "execution_count": 17,
     "metadata": {},
     "output_type": "execute_result"
    }
   ],
   "source": [
    "x='abcdefghijklmnopqrstuvwxyz'\n",
    "x=list(x)\n",
    "x.append('')\n",
    "Labelz.fit_transform(x)"
   ]
  },
  {
   "cell_type": "code",
   "execution_count": 18,
   "metadata": {},
   "outputs": [
    {
     "data": {
      "text/plain": [
       "array(['v', 'i', 'g', 'n', 'i', 't', ''], dtype='<U1')"
      ]
     },
     "execution_count": 18,
     "metadata": {},
     "output_type": "execute_result"
    }
   ],
   "source": [
    "Labelz.inverse_transform([22,9,7,14,9,20,0])"
   ]
  },
  {
   "cell_type": "code",
   "execution_count": 19,
   "metadata": {},
   "outputs": [],
   "source": [
    "def clean(w):\n",
    "    w=list(w)\n",
    "    for i in range(len(w)):\n",
    "        \n",
    "        #Removes Special charecters & numbers...\n",
    "        \n",
    "        w[i]=re.sub('[^ a-zA-Z]', '', w[i])\n",
    "        \n",
    "        #upper2lower case..\n",
    "        \n",
    "        w[i]=w[i].lower()\n",
    "        \n",
    "        #PADDING\n",
    "    c=20-len(w)\n",
    "    w=list(Labelz.transform(w))\n",
    "    for i in range(c):\n",
    "        w.append(27)\n",
    "    return np.array(w)"
   ]
  },
  {
   "cell_type": "code",
   "execution_count": 20,
   "metadata": {},
   "outputs": [
    {
     "name": "stdout",
     "output_type": "stream",
     "text": [
      "No of Offensive Words:  83\n",
      "No of polite words:  1051\n",
      "1134\n",
      "1134\n"
     ]
    }
   ],
   "source": [
    "x=['arreypuka','ariepuka','areepukaa','niyema','neeyemaa','dhengey','dengeyy','solaa','pukaa','puku','lanjodakaa','kojaapuka','kojaa','koja','lanjaaa','lanja','puku','puka','moda','sola','dengey','kojalanja','lanjakodaka','neyema','denga','neyeba','lanjapuka','boku','yedava','denginchuko','dengaa','bavarslanja','lanjaakodaka','mingey','badkoo','lawada','gudha','geru','boka','areepuka','jadepuka','modagudu','lapaki','sollu','kondapuka','pichilanja','pichipuka','madharchod','benkeylavdey','benchodh','madarchodh','bhenchod','lawde','lavdeyy','maadarchod','gaandu','chuteyaa','chutiya','randi','chinaal','bhosadika','ludakeybal','madarjaat','haraami','randwa','bhosda','hijade','haramkhor','chuth','dick','bitch','motherfucker','sexy','fuck','ass','boobs','pussy','nudes','jackass','dumdass','dumbshit','shit','asshole']\n",
    "\n",
    "z=['','point','running','odaa','create','simulate','late','honour','thread','effectiveness','neighbors','excecution','candidate','chocolate','biscute','nested','zuze','kosam','paapa','sona','days','siraj','kaam','bekhayali','bulleya','enna','soda','bann','jevan','raatey','rapuney','banu','ayaa','chanaa','mereya','achaa','chelta','baby','pull','parle','waste','hulk','avengers','ultron','savage','people','earth','universe','belong','closer','back','seat','rover','know','afford','manage','science','technology','silicon','velipoodone','facebook','whatsapp','solar','power','plant','system','indian','china','america','piee','diee','byee','grain','mail','sleep','movie','idiot','stupid','brain','artificial','intelligence','machine','learning','deep','blue','sea','whalegain','spain','tree','fifthy','five','fine','brave','being','tweet','cute','google','good','bad','better','king','spartha','prince','prize','blood','gone','ghod','worse','enchanted','hero','porn','busy','gayy','kido','green','yellow','animal','place','thing','been','near','farted','super','manhattan','women','chaduvu','exams','repu','inka','pelli','prema','kiss','graanu','ravaa','bonchesavaa','intlo','road','bayata','sweety','sugar','bear','tiger','wool','meat','neat','hoot','temp','crazy','bike','home','phone','call','msged','text','chepuu','ivuu','bandaa','potii','chitie','darling','love','hamayaa','ostavaa','koni','evaru','elaaunav','gurtunanaa','endukuu','scientist','community','class','implements','regularize','logistic','regression','using','support','only','specify','norm','multiclass','problems','unavailable','multinomial','loss','fitty','across','entire','probability','distribution','lunar','mission','moon','closest','cosmic','body','space','discovery','attempted','documented','fast','convergence','guaranteed','features','approximately','clg','reyy','cls','arey','rey','bey','orey','anaa','mava','mama','papa','mayaa','tinnava','wassup','haa','haan','kyaa','kyu','kiku','nee','naa','ninu','nanu','ehe','lee','elee','paduko','wat','hehe','hahaa','haha','enti','ohh','ohkk','kkk','vamoo','vaamoo','enduku','ekada','unava','ippudu','pakka','ayaa','amma','nanaa','unnanu','ayoo','alaa','telusu','uffoo','uff','aaa','ahh','aboo','kuda','kani','maku','meku','sai','pic','pix','inkenti','maree','mari','kalisi','cinema','podam','bangaram','thali','bujii','babu','bhiya']\n",
    "new='point positive negative technology artificial intelligence machine learning pass countinue else btech mtech qbit quantum physics thermodynamics paper sword bullet nose hard marry queen king donkey bribe seat college laptop computer math english telugu hindi maharashtra orisaa tadipalligudam andhra pradesh bullshit swap condomen condem police inspector keys keyboard smart phone internet mouse phant panties sencor censor blocks blockchain things mingle rollers coster coat dresss fine chemistry eamcet gate icpc vignite intiate inovate spects moniter bottle hole vamsi harika anjali chetan loves future yeshwanth mohan harry garry boori poori phone roof root rymn humm hmmmm ummmm kkkk keras pandas sklearn knowledge devine pink panther iron legion linus linux larry page officer science since code coding avengers fingers fastest furious seven dominc torreto torrentz eight deep bags bunch please conform confess commite confirm text messages massage bancok coak undi poraadey gundey needey poster pichidanaa yevadu daari bank baroda porotaa meals meet mains electronics electro wizard witch microsoft google googles augumented reality clash clans mean girls boys gays tweets twitter presentation education minister mister professor over here awsome amazing spider water soil dumb load link lists mouth breath breeding family monki zebra libra sysria australia amazon prime octopus caprio cancer express nerds geeks titans warth worthy devil evil sucking suck duck ducking device know more infomation pain brake freak jerk popular variations using systems source opera operating browser lust room homies bloady kotlin dart python pavani crush life hemanth card ward train hike snapchat chat cheap cheat chearful lovely rector raghu bionics nikola tesla framework brain interface user interface typing board black duster master solo everyboady body matter fiction pulp robert downey junior scienor error warching leaving sheer courage interospection captain chairman event night cabel deapool appoclopsy appoligice alice woderful vows creep sweep slepp lips years days independence cdac nvidia lucky coders programmers twisters words sentences meanings grammer spelling lavanyaa madam adore fool idiotic iconic moment movement mommentum linear polynomial android apps xvideos pornhub youtube elon musk crazy compiative programe grate graceful brace flutter hiring grouping maps slippers shoes writing sweater beard thapuu jarigeneyy repaa baatu loooo chepaa leni vedanaa laaa upadeley jarugutundi module infra structure tips gooogliness mustach must warning appurvaa vivek vignan institue projector screen boxes boxer wife team play child aasumaaley separate joined hammmer shield suite swate swag swiggy shallow super paste drugs location happier madhusudana appalaraju satyaguru never settle success siddarth orentation output band width fames time periods space ravlaae kavali chupi eppu happier about cool pods casts religion brahmens inceptive coil free office excel chatanya parayana vidyaa samsthalu smantha pavan kalyan allu arjun sereesh shes adivi forest eqvipment offline online yoga tablet dance barathanatyam achivements kaggle datasets capgemini swing slack boaring boooring boarding campus interview introverts extroverts hardcore crain strain stress based curiosity behave behaviour attitude magnitude spiral binding bonding screening object class mass weight might chaalu doley maree java shiva scrpit skit skirt some swear leave again kevu keaaka konda update ugrade chores language buggage software flash torch pycharm define refine music spotify specifier acess effective teachers inventions abstracts claim games videos audo clip slpis blip simpsons awords accords sukovia variables common light shine refelct refract entanglement reinforcement advanced compliler smell small petaanu raadu wassup whatsup frontend backend antey inkenti visheshaalu haleem aysh priya joythi india preperation mosfet html greedy feelings tests seres serial killer monger hangover whatelse twenty fonts bought bring closer rover afford tatoo nerves weekness over realization relayed uskoo denaa chahiyee farword backword towars amplifiers simplify strings attached knife razer race contest digaminguu mingey half marks ocheyy pakodi mili meters handeling scholar progress eleven restful protocal geraa wikipedia textual testosterine prequeal sequale squarrel sniper shooter short fart frying flying shower hackathon bengulore hydrabad arunachal srinivas ramanjuna annotations smiling smile slim slate arrogent hasathaa bewajaa baverages concepts relativity implimentaion implicitly notification  action sholder soldier passing outlaw putting pudding pedastrian chemicals engaged joneral tools students comming  chestunav unaava srujanaa sunny leone kalifa buraj screw drew definitions answers qutions selection labs varma'\n",
    "new=new.split()\n",
    "CommonEnglishWordz='a,able,about,across,after,all,almost,also,am,among,an,and,any,are,as,at,be,because,been,but,by,can,cannot,could,dear,did,do,does,either,else,ever,every,for,from,get,got,had,has,have,he,her,hers,him,his,how,however,i,if,in,into,is,it,its,just,least,let,like,likely,may,me,might,most,must,my,neither,no,nor,not,of,off,often,on,only,or,other,our,own,rather,said,say,says,she,should,since,so,some,than,that,the,their,them,then,there,these,they,this,tis,to,too,twas,us,wants,was,we,were,what,when,where,which,while,who,whom,why,will,with,would,yet,you,your'\n",
    "\n",
    "CommonEnglishWordz=CommonEnglishWordz.split(',')\n",
    "\n",
    "z=z+CommonEnglishWordz+new\n",
    "\n",
    "print(\"No of Offensive Words: \",len(x),)\n",
    "print(\"No of polite words: \",len(z),)\n",
    "\n",
    "#Labeling the Data..\n",
    "\n",
    "def add_a_new_OffensiveWord(new):\n",
    "        x.append(new)\n",
    "        y2.append(1)\n",
    "        print(\"New Word is Added..!!\")\n",
    "\n",
    "#Labeling the Data..\n",
    "\n",
    "y1=[1 for i in range(83)]\n",
    "y2=[0 for i in range(1051)]\n",
    "y=y1+y2\n",
    "x=x+z\n",
    "\n",
    "print(len(y))\n",
    "print(len(x))\n"
   ]
  },
  {
   "cell_type": "code",
   "execution_count": 21,
   "metadata": {},
   "outputs": [],
   "source": [
    "import sklearn\n",
    "from sklearn import tree\n",
    "model0=tree.DecisionTreeClassifier()\n",
    "from sklearn.ensemble import RandomForestClassifier\n",
    "model1=sklearn.ensemble.RandomForestClassifier()\n",
    "from sklearn.neighbors import KNeighborsClassifier\n",
    "model2=KNeighborsClassifier()\n",
    "from sklearn.svm import SVC\n",
    "model3=SVC()"
   ]
  },
  {
   "cell_type": "code",
   "execution_count": 22,
   "metadata": {
    "scrolled": true
   },
   "outputs": [
    {
     "name": "stdout",
     "output_type": "stream",
     "text": [
      "DecisionTreeClassifier(class_weight=None, criterion='gini', max_depth=None,\n",
      "            max_features=None, max_leaf_nodes=None,\n",
      "            min_impurity_decrease=0.0, min_impurity_split=None,\n",
      "            min_samples_leaf=1, min_samples_split=2,\n",
      "            min_weight_fraction_leaf=0.0, presort=False, random_state=None,\n",
      "            splitter='best')\n",
      "RandomForestClassifier(bootstrap=True, class_weight=None, criterion='gini',\n",
      "            max_depth=None, max_features='auto', max_leaf_nodes=None,\n",
      "            min_impurity_decrease=0.0, min_impurity_split=None,\n",
      "            min_samples_leaf=1, min_samples_split=2,\n",
      "            min_weight_fraction_leaf=0.0, n_estimators=10, n_jobs=None,\n",
      "            oob_score=False, random_state=None, verbose=0,\n",
      "            warm_start=False)\n",
      "KNeighborsClassifier(algorithm='auto', leaf_size=30, metric='minkowski',\n",
      "           metric_params=None, n_jobs=None, n_neighbors=5, p=2,\n",
      "           weights='uniform')\n"
     ]
    },
    {
     "name": "stderr",
     "output_type": "stream",
     "text": [
      "c:\\users\\vamsi\\appdata\\local\\programs\\python\\python37-32\\lib\\site-packages\\sklearn\\ensemble\\forest.py:246: FutureWarning: The default value of n_estimators will change from 10 in version 0.20 to 100 in 0.22.\n",
      "  \"10 in version 0.20 to 100 in 0.22.\", FutureWarning)\n",
      "c:\\users\\vamsi\\appdata\\local\\programs\\python\\python37-32\\lib\\site-packages\\sklearn\\svm\\base.py:196: FutureWarning: The default value of gamma will change from 'auto' to 'scale' in version 0.22 to account better for unscaled features. Set gamma explicitly to 'auto' or 'scale' to avoid this warning.\n",
      "  \"avoid this warning.\", FutureWarning)\n"
     ]
    },
    {
     "name": "stdout",
     "output_type": "stream",
     "text": [
      "SVC(C=1.0, cache_size=200, class_weight=None, coef0=0.0,\n",
      "  decision_function_shape='ovr', degree=3, gamma='auto_deprecated',\n",
      "  kernel='rbf', max_iter=-1, probability=False, random_state=None,\n",
      "  shrinking=True, tol=0.001, verbose=False)\n"
     ]
    }
   ],
   "source": [
    "def Train():\n",
    "    for i in range(len(x)):\n",
    "        x[i]=clean(x[i])\n",
    "    print(model0.fit(x,y))\n",
    "    print(model1.fit(x,y))\n",
    "    print(model2.fit(x,y))\n",
    "    print(model3.fit(x,y))\n",
    "Train()"
   ]
  },
  {
   "cell_type": "code",
   "execution_count": 23,
   "metadata": {},
   "outputs": [],
   "source": [
    "def predict0(k):\n",
    "    return model0.predict(k)"
   ]
  },
  {
   "cell_type": "code",
   "execution_count": 24,
   "metadata": {},
   "outputs": [],
   "source": [
    "def predict1(k):\n",
    "    return model1.predict(k)"
   ]
  },
  {
   "cell_type": "code",
   "execution_count": 25,
   "metadata": {},
   "outputs": [],
   "source": [
    "def predict2(k):\n",
    "    return model2.predict(k)\n",
    "def predict3(k):\n",
    "    return model3.predict(k)"
   ]
  },
  {
   "cell_type": "code",
   "execution_count": 26,
   "metadata": {},
   "outputs": [
    {
     "name": "stdout",
     "output_type": "stream",
     "text": [
      "Enter the Text u wanna Censor..\n",
      "\n",
      "hii ra pukaa\n",
      "\n",
      "Decision Tree:  \n",
      "\n",
      "hii ra ****\n"
     ]
    }
   ],
   "source": [
    "String=input(\"Enter the Text u wanna Censor..\\n\\n\")\n",
    "o=String.split()\n",
    "\n",
    "#StopWordz=stopwords.words('english')\n",
    "\n",
    "for i in range(len(o)):\n",
    "    if len(o[i])<4:\n",
    "            pass\n",
    "    else:\n",
    "            k=o[i].lower()\n",
    "            k=clean(k)\n",
    "            k=np.array(k)\n",
    "            k=k.reshape(1,-1)\n",
    "            \n",
    "            if predict0(k)==1:\n",
    "                o[i]='****'\n",
    "\n",
    "print(\"\\nDecision Tree: \",'\\n')\n",
    "sep=' '     \n",
    "Result=sep.join(o)\n",
    "print(Result)"
   ]
  },
  {
   "cell_type": "code",
   "execution_count": 27,
   "metadata": {},
   "outputs": [
    {
     "name": "stdout",
     "output_type": "stream",
     "text": [
      "\n",
      "Random Forest:  \n",
      "\n",
      "hii ra ****\n"
     ]
    }
   ],
   "source": [
    "o=String.split()\n",
    "\n",
    "#StopWordz=stopwords.words('english')\n",
    "\n",
    "for i in range(len(o)):\n",
    "    if len(o[i])<4:\n",
    "        pass\n",
    "    else:\n",
    "            k=o[i].lower()\n",
    "            k=clean(k)\n",
    "            k=np.array(k)\n",
    "            k=k.reshape(1,-1)\n",
    "            \n",
    "            if predict0(k)==1:\n",
    "                o[i]='****'\n",
    "\n",
    "print(\"\\nRandom Forest: \",'\\n')\n",
    "sep=' '     \n",
    "Result=sep.join(o)\n",
    "print(Result)"
   ]
  },
  {
   "cell_type": "code",
   "execution_count": 28,
   "metadata": {},
   "outputs": [],
   "source": [
    "#Note Still Lot of words need to be added to the z list..!!"
   ]
  },
  {
   "cell_type": "code",
   "execution_count": 29,
   "metadata": {},
   "outputs": [
    {
     "name": "stdout",
     "output_type": "stream",
     "text": [
      "\n",
      "KNN:  \n",
      "\n",
      "hii ra pukaa\n"
     ]
    }
   ],
   "source": [
    "o=String.split()\n",
    "\n",
    "#StopWordz=stopwords.words('english')\n",
    "\n",
    "for i in range(len(o)):\n",
    "    if len(o[i])>3:\n",
    "            pass\n",
    "    else:\n",
    "            k=o[i].lower()\n",
    "            k=clean(k)\n",
    "            k=np.array(k)\n",
    "            k=k.reshape(1,-1)\n",
    "            \n",
    "            if predict2(k)==1:\n",
    "                o[i]='****'\n",
    "\n",
    "print(\"\\nKNN: \",'\\n')\n",
    "sep=' '     \n",
    "Result=sep.join(o)\n",
    "print(Result)"
   ]
  },
  {
   "cell_type": "code",
   "execution_count": 30,
   "metadata": {},
   "outputs": [
    {
     "name": "stdout",
     "output_type": "stream",
     "text": [
      "\n",
      "Support Vector Machine:  \n",
      "\n",
      "hii ra pukaa\n"
     ]
    }
   ],
   "source": [
    "o=String.split()\n",
    "\n",
    "#StopWordz=stopwords.words('english')\n",
    "\n",
    "for i in range(len(o)):\n",
    "    if len(o[i])>3:\n",
    "            pass\n",
    "    else:\n",
    "            k=o[i].lower()\n",
    "            k=clean(k)\n",
    "            k=np.array(k)\n",
    "            k=k.reshape(1,-1)\n",
    "            \n",
    "            if predict3(k)==1:\n",
    "                o[i]='****'\n",
    "\n",
    "print(\"\\nSupport Vector Machine: \",'\\n')\n",
    "sep=' '     \n",
    "Result=sep.join(o)\n",
    "print(Result)"
   ]
  },
  {
   "cell_type": "code",
   "execution_count": 31,
   "metadata": {},
   "outputs": [
    {
     "name": "stdout",
     "output_type": "stream",
     "text": [
      "Enter the word u wanna Add..modaguduu\n",
      "New Word is Added..!!\n"
     ]
    }
   ],
   "source": [
    "p=input(\"Enter the word u wanna Add..\")\n",
    "add_a_new_OffensiveWord(p)"
   ]
  },
  {
   "cell_type": "code",
   "execution_count": 32,
   "metadata": {},
   "outputs": [
    {
     "data": {
      "text/plain": [
       "1135"
      ]
     },
     "execution_count": 32,
     "metadata": {},
     "output_type": "execute_result"
    }
   ],
   "source": [
    "len(x)"
   ]
  },
  {
   "cell_type": "code",
   "execution_count": null,
   "metadata": {},
   "outputs": [],
   "source": []
  }
 ],
 "metadata": {
  "kernelspec": {
   "display_name": "Python 3",
   "language": "python",
   "name": "python3"
  },
  "language_info": {
   "codemirror_mode": {
    "name": "ipython",
    "version": 3
   },
   "file_extension": ".py",
   "mimetype": "text/x-python",
   "name": "python",
   "nbconvert_exporter": "python",
   "pygments_lexer": "ipython3",
   "version": "3.7.2"
  }
 },
 "nbformat": 4,
 "nbformat_minor": 2
}
